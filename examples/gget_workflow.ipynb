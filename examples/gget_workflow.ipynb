{
  "nbformat": 4,
  "nbformat_minor": 0,
  "metadata": {
    "colab": {
      "name": "gget_workflow.ipynb",
      "provenance": [],
      "collapsed_sections": [],
      "include_colab_link": true
    },
    "kernelspec": {
      "name": "python3",
      "display_name": "Python 3"
    },
    "language_info": {
      "name": "python"
    }
  },
  "cells": [
    {
      "cell_type": "markdown",
      "metadata": {
        "id": "view-in-github",
        "colab_type": "text"
      },
      "source": [
        "<a href=\"https://colab.research.google.com/github/lauraluebbert/gget/blob/dev/examples/gget_workflow.ipynb\" target=\"_parent\"><img src=\"https://colab.research.google.com/assets/colab-badge.svg\" alt=\"Open In Colab\"/></a>"
      ]
    },
    {
      "cell_type": "markdown",
      "source": [
        "gget features:\n",
        "- `gget ref` Fetch FTPs for reference genomes and annotations by species.\n",
        "- `gget search`  Fetch gene and transcript IDs from Ensembl using free-form search terms.\n",
        "- `gget info` Fetch gene and transcript metadata using Ensembl IDs. \n",
        "- `gget seq` Fetch nucleotide or amino acid sequences of genes or transcripts.\n",
        "- `gget blast` BLAST a nucleotide or amino acid sequence against any BLAST database.\n",
        "- `gget muscle` Align multiple nucleotide or amino acid sequences against each other.\n",
        "- `gget enrichr` Perform an enrichment analysis on a list of genes using Enrichr."
      ],
      "metadata": {
        "id": "qBaV5R5eqE1T"
      }
    },
    {
      "cell_type": "markdown",
      "source": [
        "___"
      ],
      "metadata": {
        "id": "4YTWSN4yj1Bf"
      }
    },
    {
      "cell_type": "markdown",
      "source": [
        "Install from gget dev repository (only necessary until next release):"
      ],
      "metadata": {
        "id": "6BNMctR7el5J"
      }
    },
    {
      "cell_type": "code",
      "execution_count": null,
      "metadata": {
        "id": "OdetWSLaZvkA"
      },
      "outputs": [],
      "source": [
        "%config InlineBackend.figure_format='retina'\n",
        "!git clone -b dev --single-branch https://github.com/lauraluebbert/gget.git -q\n",
        "!pip install mysql-connector-python -q\n",
        "!cd gget && pip install . -q"
      ]
    },
    {
      "cell_type": "markdown",
      "source": [
        "___"
      ],
      "metadata": {
        "id": "KPJWPlXfhZjo"
      }
    },
    {
      "cell_type": "markdown",
      "source": [
        "\n",
        "<h1><center>Terminal version</center></h1>\n",
        "<center>Jupyter lab version below.<center>\n"
      ],
      "metadata": {
        "id": "KXXUUooZdfsK"
      }
    },
    {
      "cell_type": "code",
      "source": [
        "!gget"
      ],
      "metadata": {
        "id": "M1Azk6tcIW9H"
      },
      "execution_count": null,
      "outputs": []
    },
    {
      "cell_type": "code",
      "source": [
        "# # Show detailed help page\n",
        "# !gget -h"
      ],
      "metadata": {
        "id": "KAUUP7nFFWe1"
      },
      "execution_count": null,
      "outputs": []
    },
    {
      "cell_type": "markdown",
      "source": [
        "___\n",
        "Ensembl just released Ensembl 106. Note that gget ref and search will automatically fetch from that release now unless a previous release is specified (all other functions are release independent):"
      ],
      "metadata": {
        "id": "YNJbN2aEnmvh"
      }
    },
    {
      "cell_type": "code",
      "source": [
        "!gget ref -s human -w gtf"
      ],
      "metadata": {
        "id": "9lnLsNm9nmFk"
      },
      "execution_count": null,
      "outputs": []
    },
    {
      "cell_type": "markdown",
      "source": [
        "Show newly available genomes in the latest Ensembl release (compared to previous release 105):"
      ],
      "metadata": {
        "id": "Q1sW4LTUyNj6"
      }
    },
    {
      "cell_type": "code",
      "source": [
        "!comm -13 <(gget ref -l -r 105 | sort) <(gget ref -l | sort)"
      ],
      "metadata": {
        "id": "nXcAafHww3jy"
      },
      "execution_count": null,
      "outputs": []
    },
    {
      "cell_type": "markdown",
      "source": [
        "___"
      ],
      "metadata": {
        "id": "ezkGf3VtFW4a"
      }
    },
    {
      "cell_type": "markdown",
      "source": [
        "# Find gene IDs based on free form search words:\n",
        "Searching for 'fun' genes in the zebra finch genome. Just writing 'tae' is enough, because no other genome begins with those letters."
      ],
      "metadata": {
        "id": "x-JWpMCQjqLQ"
      }
    },
    {
      "cell_type": "code",
      "source": [
        "!gget search -sw fun -s tae"
      ],
      "metadata": {
        "id": "jGgksQqK2zog"
      },
      "execution_count": null,
      "outputs": []
    },
    {
      "cell_type": "markdown",
      "source": [
        "# Use Enrichr to perform an enrichment analysis on a list of genes"
      ],
      "metadata": {
        "id": "7Kp6bzv2-8Sr"
      }
    },
    {
      "cell_type": "code",
      "source": [
        "!gget enrichr --genes AIMP1 MFHAS1 BFAR FUNDC1 AIMP2 ASF1A -db pathway"
      ],
      "metadata": {
        "id": "bjzhkl1L-qN8"
      },
      "execution_count": null,
      "outputs": []
    },
    {
      "cell_type": "markdown",
      "source": [
        "# Fetch additional information about genes/transcripts (like the IDs of all known transcripts of a gene):"
      ],
      "metadata": {
        "id": "oYbIQ8G3jtby"
      }
    },
    {
      "cell_type": "code",
      "source": [
        "# Show short info on a few of the genes\n",
        "!gget info -id ENSTGUG00000006139 ENSTGUG00000026050 ENSTGUG00000004956"
      ],
      "metadata": {
        "id": "5gNxjBqjGBYv"
      },
      "execution_count": null,
      "outputs": []
    },
    {
      "cell_type": "code",
      "source": [
        "# Expand info to show all transcripts\n",
        "!gget info -id ENSTGUG00000006139 -e"
      ],
      "metadata": {
        "id": "c4NTjsTh5hGh"
      },
      "execution_count": null,
      "outputs": []
    },
    {
      "cell_type": "markdown",
      "source": [
        "# Fetch the **nucleotide** sequence of a gene, or the **nucleotide** sequences corresponding to all its known protein isoforms."
      ],
      "metadata": {
        "id": "2LmfnoEWkBXY"
      }
    },
    {
      "cell_type": "code",
      "source": [
        "!gget seq -id ENSTGUG00000006139 -o gene_fasta.fa"
      ],
      "metadata": {
        "id": "7DHXPniw8XD9"
      },
      "execution_count": null,
      "outputs": []
    },
    {
      "cell_type": "code",
      "source": [
        "!gget seq -id ENSTGUG00000006139 -iso -o gene_iso_fasta.fa"
      ],
      "metadata": {
        "id": "9IQtYuB4GbKY"
      },
      "execution_count": null,
      "outputs": []
    },
    {
      "cell_type": "markdown",
      "source": [
        "# Fetch the **amino acid** sequence of the canonical transcript of a gene, or the **amino acid** sequences corresponding to all its known protein isoforms."
      ],
      "metadata": {
        "id": "4OpdPop6GruS"
      }
    },
    {
      "cell_type": "code",
      "source": [
        "# Get amino acid (AA) sequence of canonical transcript\n",
        "!gget seq -id ENSTGUG00000006139 -st transcript -o transcript_fasta.fa"
      ],
      "metadata": {
        "id": "NtN1L-QAGrJ3"
      },
      "execution_count": null,
      "outputs": []
    },
    {
      "cell_type": "code",
      "source": [
        "# Get AA sequences of all isoforms\n",
        "!gget seq -id ENSTGUG00000006139 -st transcript -iso -o transcript_iso_fasta.fa"
      ],
      "metadata": {
        "id": "1fxodra1G3u8"
      },
      "execution_count": null,
      "outputs": []
    },
    {
      "cell_type": "markdown",
      "source": [
        "Note: If you use the isoform option on a transcript, it will simply fetch the sequence of the specified transcript and notify the user that the isoform option only applies to genes:"
      ],
      "metadata": {
        "id": "guK4ZIY8HLcU"
      }
    },
    {
      "cell_type": "code",
      "source": [
        "!gget seq -id ENSTGUT00000027003.1 -st transcript -iso"
      ],
      "metadata": {
        "id": "-kTfXPaVHLjf"
      },
      "execution_count": null,
      "outputs": []
    },
    {
      "cell_type": "markdown",
      "source": [
        "# BLAST the gene **nucleotide** sequence:"
      ],
      "metadata": {
        "id": "seepZWLxknDz"
      }
    },
    {
      "cell_type": "markdown",
      "source": [
        "Note: `blast` also accepts a sequence passed as string instead of a .fa file."
      ],
      "metadata": {
        "id": "eVJwo-IC1bYE"
      }
    },
    {
      "cell_type": "code",
      "source": [
        "!gget blast -s gene_fasta.fa -o gene_blast.csv"
      ],
      "metadata": {
        "id": "Isw0g_6sQigW"
      },
      "execution_count": null,
      "outputs": []
    },
    {
      "cell_type": "markdown",
      "source": [
        "# BLAST the **amino acid** sequence of the canonical transcript:"
      ],
      "metadata": {
        "id": "gx0M8gPrJkXd"
      }
    },
    {
      "cell_type": "code",
      "source": [
        "!gget blast -s transcript_fasta.fa -o transcript_blast.csv"
      ],
      "metadata": {
        "id": "NL4AUOsAJk1i"
      },
      "execution_count": null,
      "outputs": []
    },
    {
      "cell_type": "markdown",
      "source": [
        "# Use MUSCLE algorithm to align the **nucleotide** sequences of all transcripts:\n",
        "Returns an alignment fasta (.afa) file."
      ],
      "metadata": {
        "id": "OMjzi22Zl7V2"
      }
    },
    {
      "cell_type": "code",
      "source": [
        "# For long/many sequences, use super5 algorithm (activate with flag [-s5]) to decrease memory\n",
        "# Save results with flag -o\n",
        "!gget muscle -fa gene_iso_fasta.fa"
      ],
      "metadata": {
        "id": "p7z5v6dFJ2Ed"
      },
      "execution_count": null,
      "outputs": []
    },
    {
      "cell_type": "markdown",
      "source": [
        "# Use MUSCLE algorithm to align the **amino acid** sequences of all transcripts:"
      ],
      "metadata": {
        "id": "eQP4bt5nKENg"
      }
    },
    {
      "cell_type": "code",
      "source": [
        "!gget muscle -fa transcript_iso_fasta.fa"
      ],
      "metadata": {
        "id": "I2HYoJzFKEUg"
      },
      "execution_count": null,
      "outputs": []
    },
    {
      "cell_type": "markdown",
      "source": [
        "___"
      ],
      "metadata": {
        "id": "cJHPYKJxyKV3"
      }
    },
    {
      "cell_type": "markdown",
      "source": [
        "<h1><center>Jupyter Lab version</center></h1>"
      ],
      "metadata": {
        "id": "4HEHP8l1dZKJ"
      }
    },
    {
      "cell_type": "code",
      "source": [
        "import gget"
      ],
      "metadata": {
        "id": "P2qpHI1rayXs"
      },
      "execution_count": null,
      "outputs": []
    },
    {
      "cell_type": "code",
      "source": [
        "# # Show manual per sub-function, e.g. for seq:\n",
        "# help(gget.seq)"
      ],
      "metadata": {
        "id": "_9vbVxnokEXj"
      },
      "execution_count": null,
      "outputs": []
    },
    {
      "cell_type": "markdown",
      "source": [
        "___"
      ],
      "metadata": {
        "id": "20VjNNfFkEXk"
      }
    },
    {
      "cell_type": "markdown",
      "source": [
        "# Find gene IDs based on free form search words:"
      ],
      "metadata": {
        "id": "MHtrFB9jkEXk"
      }
    },
    {
      "cell_type": "code",
      "source": [
        "# Note: 'wrap_text' displays the data frame with wrapped text for easier reading\n",
        "search_results = gget.search(\"fun\", \"tae\", wrap_text=True)"
      ],
      "metadata": {
        "id": "d_QhOMeEkEXk"
      },
      "execution_count": null,
      "outputs": []
    },
    {
      "cell_type": "markdown",
      "source": [
        "# Use Enrichr to perform an enrichment analysis on a list of genes"
      ],
      "metadata": {
        "id": "JH_IOt0V30Ur"
      }
    },
    {
      "cell_type": "code",
      "source": [
        "# plot=True displays a graphical overview of the first 15 results\n",
        "enrichr_df = gget.enrichr(search_results[\"gene_name\"], database=\"pathway\", plot=True)"
      ],
      "metadata": {
        "id": "vbXCedE83zfs"
      },
      "execution_count": null,
      "outputs": []
    },
    {
      "cell_type": "code",
      "source": [
        "enrichr_df"
      ],
      "metadata": {
        "id": "sjYhZ5fV3_T7"
      },
      "execution_count": null,
      "outputs": []
    },
    {
      "cell_type": "markdown",
      "source": [
        "# Fetch additional information about genes/transcripts (like the IDs of all known transcripts of a gene):"
      ],
      "metadata": {
        "id": "jx5q_cU9kEXk"
      }
    },
    {
      "cell_type": "code",
      "source": [
        "# Get gene ID of FUNDC1\n",
        "gene_ID = search_results[search_results[\"gene_name\"]==\"FUNDC1\"][\"ensembl_id\"].values[0]\n",
        "gene_ID"
      ],
      "metadata": {
        "id": "6pWyWdjQkEXl"
      },
      "execution_count": null,
      "outputs": []
    },
    {
      "cell_type": "code",
      "source": [
        "# Show short info on a few genes\n",
        "# Note: 'wrap_text' displays the data frame with wrapped text for easier reading\n",
        "df = gget.info([gene_ID, \"ENSTGUG00000019264\", \"ENSTGUG00000022620\"], wrap_text=True)"
      ],
      "metadata": {
        "id": "koE4_7TUzGtM"
      },
      "execution_count": null,
      "outputs": []
    },
    {
      "cell_type": "code",
      "source": [
        "# Show expanded info\n",
        "info_results = gget.info(gene_ID, expand=True, wrap_text=True)"
      ],
      "metadata": {
        "id": "KC7wPgPAkEXl"
      },
      "execution_count": null,
      "outputs": []
    },
    {
      "cell_type": "markdown",
      "source": [
        "# Fetch the **nucleotide** sequence of a gene, or the **nucleotide** sequences corresponding to all its known protein isoforms."
      ],
      "metadata": {
        "id": "tdZFamNfkEXl"
      }
    },
    {
      "cell_type": "code",
      "source": [
        "gene_fasta = gget.seq(gene_ID)\n",
        "gene_fasta"
      ],
      "metadata": {
        "id": "vuILBGjTkEXl"
      },
      "execution_count": null,
      "outputs": []
    },
    {
      "cell_type": "code",
      "source": [
        "gget.seq(gene_ID, isoforms=True)"
      ],
      "metadata": {
        "id": "V5HAGuyxkEXl"
      },
      "execution_count": null,
      "outputs": []
    },
    {
      "cell_type": "markdown",
      "source": [
        "# Fetch the **amino acid** sequence of the canonical transcript of a gene, or the **amino acid** sequences corresponding to all its known protein isoforms."
      ],
      "metadata": {
        "id": "qKwtqU5jkEXl"
      }
    },
    {
      "cell_type": "code",
      "source": [
        "# Get AA sequence of canonical transcript\n",
        "transcript_fasta = gget.seq(gene_ID, seqtype=\"transcript\")\n",
        "transcript_fasta"
      ],
      "metadata": {
        "id": "rjsH3z2Cz1MY"
      },
      "execution_count": null,
      "outputs": []
    },
    {
      "cell_type": "code",
      "source": [
        "# Get AA sequences of all isoforms\n",
        "gget.seq(gene_ID, seqtype=\"transcript\", isoforms=True)"
      ],
      "metadata": {
        "id": "AcqFtS3TkEXm"
      },
      "execution_count": null,
      "outputs": []
    },
    {
      "cell_type": "markdown",
      "source": [
        "Note: If you use the isoform option on a transcript, it will simply fetch the sequence of the specified transcript and notify the user that the isoform option only applies to genes:"
      ],
      "metadata": {
        "id": "ka9C94ULkEXm"
      }
    },
    {
      "cell_type": "code",
      "source": [
        "gget.seq(\"ENST00000334527\", seqtype=\"transcript\", isoforms=True)"
      ],
      "metadata": {
        "id": "c3tQsre8kEXm"
      },
      "execution_count": null,
      "outputs": []
    },
    {
      "cell_type": "markdown",
      "source": [
        "# BLAST the gene **nucleotide** sequence:"
      ],
      "metadata": {
        "id": "9dw6Gi3KkEXm"
      }
    },
    {
      "cell_type": "code",
      "source": [
        "# Note: 'wrap_text' displays the data frame with wrapped text for easier reading,\n",
        "df = gget.blast(gene_fasta[1], wrap_text=True)"
      ],
      "metadata": {
        "id": "yXcG9WX_kEXm"
      },
      "execution_count": null,
      "outputs": []
    },
    {
      "cell_type": "markdown",
      "source": [
        "# BLAST the **amino acid** sequence of the canonical transcript:"
      ],
      "metadata": {
        "id": "5xUsCIqVkEXm"
      }
    },
    {
      "cell_type": "code",
      "source": [
        "df = gget.blast(transcript_fasta[1], wrap_text=True)"
      ],
      "metadata": {
        "id": "SVJB89oQkEXm"
      },
      "execution_count": null,
      "outputs": []
    },
    {
      "cell_type": "markdown",
      "source": [
        "# Use MUSCLE algorithm to align the **nucleotide** sequences of all transcripts:"
      ],
      "metadata": {
        "id": "3jGYeQnfkEXm"
      }
    },
    {
      "cell_type": "markdown",
      "source": [
        "I will use the .fa files that were previously generated using the terminal commands above. Unlike `blast`, `muscle` only accepts .fa files as input (`blast` also accepts a sequence passed as string). In Jupyter lab, compatible .fa files can be generated using the `save=True` option with `seq()`."
      ],
      "metadata": {
        "id": "bwRl85dC0nBz"
      }
    },
    {
      "cell_type": "code",
      "source": [
        "gget.muscle(\"gene_iso_fasta.fa\")"
      ],
      "metadata": {
        "id": "Vl9lJ2hWkEXm"
      },
      "execution_count": null,
      "outputs": []
    },
    {
      "cell_type": "markdown",
      "source": [
        "# Use MUSCLE algorithm to align the **amino acid** sequences of all transcripts:"
      ],
      "metadata": {
        "id": "l1B99LLkkEXm"
      }
    },
    {
      "cell_type": "code",
      "source": [
        "gget.muscle(\"transcript_iso_fasta.fa\")"
      ],
      "metadata": {
        "id": "cUq-acEMkEXm"
      },
      "execution_count": null,
      "outputs": []
    }
  ]
}