{
 "cells": [
  {
   "cell_type": "code",
   "execution_count": 12,
   "metadata": {},
   "outputs": [],
   "source": [
    "from gget import gget \n",
    "from gget import ftpget "
   ]
  },
  {
   "cell_type": "code",
   "execution_count": 7,
   "metadata": {},
   "outputs": [
    {
     "data": {
      "text/plain": [
       "<function gget.ftpget(species, release='latest')>"
      ]
     },
     "execution_count": 7,
     "metadata": {},
     "output_type": "execute_result"
    }
   ],
   "source": [
    "ftpget"
   ]
  },
  {
   "cell_type": "code",
   "execution_count": 8,
   "metadata": {},
   "outputs": [
    {
     "name": "stdout",
     "output_type": "stream",
     "text": [
      "Fetching from Ensembl release: 105\n",
      "GTF download link: http://ftp.ensembl.org/pub/release-105/gtf/bos_mutus/Bos_mutus.BosGru_v2.0.105.gtf.gz\n",
      "GTF release date:                    17-Oct-2021 05:20            12647136\n",
      "\n",
      "cDNA FASTA download link: http://ftp.ensembl.org/pub/release-105/fasta/bos_mutus/cdna/Bos_mutus.BosGru_v2.0.cdna.all.fa.gz\n",
      "cDNA FASTA release date:                12-Oct-2021 22:49            17464521\n",
      "\n",
      "DNA FASTA download link: http://ftp.ensembl.org/pub/release-105/fasta/bos_mutus/dna/Bos_mutus.BosGru_v2.0.dna.toplevel.fa.gz\n",
      "DNA FASTA release date:           12-Oct-2021 10:46           775925173\n",
      "\n"
     ]
    }
   ],
   "source": [
    "ftpget(\"bos_mutus\")"
   ]
  },
  {
   "cell_type": "code",
   "execution_count": 17,
   "metadata": {},
   "outputs": [
    {
     "name": "stdout",
     "output_type": "stream",
     "text": [
      "Fetching from Ensembl release: 105\n",
      "GTF download link: http://ftp.ensembl.org/pub/release-105/gtf/homo_sapiens/Homo_sapiens.GRCh38.105.gtf.gz\n",
      "GTF release date:                      18-Jun-2021 13:28            50829040\n",
      "\n",
      "cDNA FASTA download link: http://ftp.ensembl.org/pub/release-105/fasta/homo_sapiens/cdna/Homo_sapiens.GRCh38.cdna.all.fa.gz\n",
      "cDNA FASTA release date:                  18-Jun-2021 12:56            76085001\n",
      "\n",
      "DNA FASTA download link: http://ftp.ensembl.org/pub/release-105/fasta/homo_sapiens/dna/Homo_sapiens.GRCh38.dna.toplevel.fa.gz\n",
      "DNA FASTA release date:             18-Jun-2021 13:13          1107654500\n",
      "\n"
     ]
    }
   ],
   "source": [
    "ftpget(\"homo_sapiens\")"
   ]
  },
  {
   "cell_type": "code",
   "execution_count": null,
   "metadata": {},
   "outputs": [],
   "source": []
  }
 ],
 "metadata": {
  "kernelspec": {
   "display_name": "Python 3",
   "language": "python",
   "name": "python3"
  },
  "language_info": {
   "codemirror_mode": {
    "name": "ipython",
    "version": 3
   },
   "file_extension": ".py",
   "mimetype": "text/x-python",
   "name": "python",
   "nbconvert_exporter": "python",
   "pygments_lexer": "ipython3",
   "version": "3.7.6"
  }
 },
 "nbformat": 4,
 "nbformat_minor": 4
}
