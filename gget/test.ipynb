{
 "cells": [
  {
   "cell_type": "code",
   "execution_count": 1,
   "metadata": {},
   "outputs": [
    {
     "name": "stdout",
     "output_type": "stream",
     "text": [
      "Help on class Jackhmmer in module alphafold.data.tools.jackhmmer:\n",
      "\n",
      "class Jackhmmer(builtins.object)\n",
      " |  Jackhmmer(*, binary_path: str, database_path: str, n_cpu: int = 8, n_iter: int = 1, e_value: float = 0.0001, z_value: Optional[int] = None, get_tblout: bool = False, filter_f1: float = 0.0005, filter_f2: float = 5e-05, filter_f3: float = 5e-07, incdom_e: Optional[float] = None, dom_e: Optional[float] = None, num_streamed_chunks: Optional[int] = None, streaming_callback: Optional[Callable[[int], NoneType]] = None)\n",
      " |  \n",
      " |  Python wrapper of the Jackhmmer binary.\n",
      " |  \n",
      " |  Methods defined here:\n",
      " |  \n",
      " |  __init__(self, *, binary_path: str, database_path: str, n_cpu: int = 8, n_iter: int = 1, e_value: float = 0.0001, z_value: Optional[int] = None, get_tblout: bool = False, filter_f1: float = 0.0005, filter_f2: float = 5e-05, filter_f3: float = 5e-07, incdom_e: Optional[float] = None, dom_e: Optional[float] = None, num_streamed_chunks: Optional[int] = None, streaming_callback: Optional[Callable[[int], NoneType]] = None)\n",
      " |      Initializes the Python Jackhmmer wrapper.\n",
      " |      \n",
      " |      Args:\n",
      " |        binary_path: The path to the jackhmmer executable.\n",
      " |        database_path: The path to the jackhmmer database (FASTA format).\n",
      " |        n_cpu: The number of CPUs to give Jackhmmer.\n",
      " |        n_iter: The number of Jackhmmer iterations.\n",
      " |        e_value: The E-value, see Jackhmmer docs for more details.\n",
      " |        z_value: The Z-value, see Jackhmmer docs for more details.\n",
      " |        get_tblout: Whether to save tblout string.\n",
      " |        filter_f1: MSV and biased composition pre-filter, set to >1.0 to turn off.\n",
      " |        filter_f2: Viterbi pre-filter, set to >1.0 to turn off.\n",
      " |        filter_f3: Forward pre-filter, set to >1.0 to turn off.\n",
      " |        incdom_e: Domain e-value criteria for inclusion of domains in MSA/next\n",
      " |          round.\n",
      " |        dom_e: Domain e-value criteria for inclusion in tblout.\n",
      " |        num_streamed_chunks: Number of database chunks to stream over.\n",
      " |        streaming_callback: Callback function run after each chunk iteration with\n",
      " |          the iteration number as argument.\n",
      " |  \n",
      " |  query(self, input_fasta_path: str, max_sequences: Optional[int] = None) -> Sequence[Mapping[str, Any]]\n",
      " |      Queries the database using Jackhmmer.\n",
      " |  \n",
      " |  ----------------------------------------------------------------------\n",
      " |  Data descriptors defined here:\n",
      " |  \n",
      " |  __dict__\n",
      " |      dictionary for instance variables (if defined)\n",
      " |  \n",
      " |  __weakref__\n",
      " |      list of weak references to the object (if defined)\n",
      "\n"
     ]
    }
   ],
   "source": [
    "from alphafold.data.tools import jackhmmer\n",
    "help(jackhmmer.Jackhmmer)"
   ]
  },
  {
   "cell_type": "code",
   "execution_count": null,
   "metadata": {},
   "outputs": [],
   "source": []
  },
  {
   "cell_type": "code",
   "execution_count": 1,
   "metadata": {},
   "outputs": [],
   "source": [
    "import gget"
   ]
  },
  {
   "cell_type": "code",
   "execution_count": 2,
   "metadata": {},
   "outputs": [
    {
     "name": "stderr",
     "output_type": "stream",
     "text": [
      "Sun Jul 31 15:07:34 2022 INFO Validating input sequence(s).\n",
      "Sun Jul 31 15:07:34 2022 INFO Finding closest source for reference database.\n"
     ]
    },
    {
     "name": "stdout",
     "output_type": "stream",
     "text": [
      "Using the single-chain model.\n"
     ]
    },
    {
     "name": "stderr",
     "output_type": "stream",
     "text": [
      "Sun Jul 31 15:12:33 2022 INFO Getting MSA for sequence 1.\n"
     ]
    },
    {
     "data": {
      "application/vnd.jupyter.widget-view+json": {
       "model_id": "0acae47f212343f1a5ffa352d937a53c",
       "version_major": 2,
       "version_minor": 0
      },
      "text/plain": [
       "  0%|          | 0/147 [elapsed: 00:00 remaining: ?]"
      ]
     },
     "metadata": {},
     "output_type": "display_data"
    },
    {
     "name": "stderr",
     "output_type": "stream",
     "text": [
      "Sun Jul 31 15:15:35 2022 INFO Launching subprocess \"/Users/lauraluebbert/opt/anaconda3/lib/python3.9/site-packages/gget/bins/Darwin/jackhmmer -o /dev/null -A /var/folders/v8/1_xrn19n71s8w4gbd_215tnr0000gn/T/tmp2sfvrdnz/output.sto --noali --F1 0.0005 --F2 5e-05 --F3 5e-07 --incE 0.0001 -E 0.0001 --cpu 8 -N 1 --tblout /var/folders/v8/1_xrn19n71s8w4gbd_215tnr0000gn/T/tmp2sfvrdnz/tblout.txt -Z 135301051 /Users/lauraluebbert/Downloads/gget/gget/2022_07_31-15_07_gget_alphafold_prediction/target_1.fasta /Users/lauraluebbert/tmp/jackhmmer/fcb45c67-8b27-4156-bbd8-9d11512babf2/uniref90_2021_03.fasta.1\"\n",
      "Sun Jul 31 15:15:35 2022 INFO Started Jackhmmer (uniref90_2021_03.fasta.1) query\n"
     ]
    }
   ],
   "source": [
    "gget.alphafold(\"MDSKESLTPGREENPSSVLAQERGDVMDFYKTLRGGATVKVSASSPSLAVASQSDSKQRR\")"
   ]
  },
  {
   "cell_type": "code",
   "execution_count": null,
   "metadata": {},
   "outputs": [],
   "source": []
  },
  {
   "cell_type": "code",
   "execution_count": null,
   "metadata": {},
   "outputs": [],
   "source": [
    "gget.setup(\"alphafold\")"
   ]
  },
  {
   "cell_type": "code",
   "execution_count": null,
   "metadata": {},
   "outputs": [],
   "source": [
    "gget.alphafold(\"MHHHHHHGAQPARSANDTVVVGSINFTEGIIVANMVAEMIEAHTDLKVVRKLNLGGENVNFEAIKRGGANNGIDIYVEYTGHGLVDILGFPEPNVYITADKQKNGIKANFKIRHNMEDGSVQLADHYQQNTPIGDGPVLLPDNHYLSTQSVLSKDPNEKRDHMVLLEFVTAAGITLGMDELYKGGTGGSMSKGEELFTGVVPILVELDGGVNGHKFSVRGEGEGDATNGKLTLKFICTTGKLPVPWPTLVTTLTYGVQCFSRYPDHMKQHDFFKSAMPEGYVQERTISFKDDGTYKTRAEVKFEGDTLVNRIELKGIDFKEDGNILGHKLEYNFPPPSSTDPEGAYETVKKEYKRKWNIVWLKPLGFNNTYTLTVKDELAKQYNLKTFSDLAKISDKLILGATMFFLEGPDGYPGLQKLYNFKFKHTKSMDMGIRYTAIDNNEVQVIDAWATDGLLVSHKLKILEDDKAFFPPYYAAPIIRQDVLDKHPELKDVLNKLANQISLEEMQKLNYKVDGEGQDPAKVAKEFLKEKGLILQVD\")"
   ]
  },
  {
   "cell_type": "code",
   "execution_count": null,
   "metadata": {},
   "outputs": [],
   "source": []
  }
 ],
 "metadata": {
  "kernelspec": {
   "display_name": "Python 3.9.7 ('base')",
   "language": "python",
   "name": "python3"
  },
  "language_info": {
   "codemirror_mode": {
    "name": "ipython",
    "version": 3
   },
   "file_extension": ".py",
   "mimetype": "text/x-python",
   "name": "python",
   "nbconvert_exporter": "python",
   "pygments_lexer": "ipython3",
   "version": "3.9.7"
  },
  "orig_nbformat": 4,
  "vscode": {
   "interpreter": {
    "hash": "dd19f4a025a239cd738138a9cfd973ebc04741b3d7e2339b3ee95d5c6fc3738f"
   }
  }
 },
 "nbformat": 4,
 "nbformat_minor": 2
}
