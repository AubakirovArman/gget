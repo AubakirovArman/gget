{
 "cells": [
  {
   "cell_type": "code",
   "execution_count": 1,
   "metadata": {},
   "outputs": [],
   "source": [
    "# gget functions\n",
    "import main\n",
    "import utils\n",
    "\n",
    "# Packages for gget search\n",
    "import pandas as pd\n",
    "import mysql.connector as sql\n",
    "import time\n",
    "\n",
    "# Packages for ref\n",
    "from bs4 import BeautifulSoup\n",
    "import requests\n",
    "import re\n",
    "import numpy as np\n",
    "import json\n",
    "\n",
    "# Packages for use from terminal\n",
    "import argparse\n",
    "import sys\n",
    "import os"
   ]
  },
  {
   "cell_type": "code",
   "execution_count": 1,
   "metadata": {},
   "outputs": [],
   "source": [
    "from gget import ref, search, info"
   ]
  },
  {
   "cell_type": "code",
   "execution_count": 2,
   "metadata": {},
   "outputs": [],
   "source": [
    "# from autocorrect import Speller\n",
    "# spell = Speller()"
   ]
  },
  {
   "cell_type": "markdown",
   "metadata": {},
   "source": [
    "___"
   ]
  },
  {
   "cell_type": "code",
   "execution_count": null,
   "metadata": {},
   "outputs": [],
   "source": []
  },
  {
   "cell_type": "code",
   "execution_count": null,
   "metadata": {},
   "outputs": [],
   "source": []
  },
  {
   "cell_type": "code",
   "execution_count": null,
   "metadata": {},
   "outputs": [],
   "source": []
  },
  {
   "cell_type": "code",
   "execution_count": null,
   "metadata": {},
   "outputs": [],
   "source": [
    "def seq(ens_ids):\n",
    "    \"\"\"\n",
    "    Looks up sequences from Ensembl IDs.\n",
    "\n",
    "    Parameters:\n",
    "    - ens_ids\n",
    "    One or more Ensembl IDs (passed as string or list of strings).\n",
    "\n",
    "    Returns a dictionary/json file containing the requested information about the Ensembl IDs.\n",
    "    \"\"\"\n",
    "    # Define Ensembl REST API server\n",
    "    server = \"http://rest.ensembl.org/\"\n",
    "    # Define type of returned content from REST\n",
    "    content_type = \"application/json\"\n",
    "\n",
    "    ## Clean up Ensembl IDs\n",
    "    # If single Ensembl ID passed as string, convert to list\n",
    "    if type(ens_ids) == str:\n",
    "        ens_ids = [ens_ids]\n",
    "    # Remove Ensembl ID version if passed\n",
    "    ens_ids_clean = []\n",
    "    for ensembl_ID in ens_ids:\n",
    "        ens_ids_clean.append(ensembl_ID.split(\".\")[0])\n",
    "        \n",
    "    # Initiate dictionary to save results for all IDs in\n",
    "    master_dict = {}\n",
    "\n",
    "    # Query REST APIs from https://rest.ensembl.org/\n",
    "    for ensembl_ID in ens_ids_clean:\n",
    "        # Create dict to save query results\n",
    "        results_dict = {ensembl_ID:{}}\n",
    "        \n",
    "        ## SEQUENCE\n",
    "        # sequence/id/ query: Request sequence by stable identifier\n",
    "        if seq == True:\n",
    "            # Define the REST query\n",
    "            query = \"sequence/id/\" + ensembl_ID + \"?\"\n",
    "            # Submit query\n",
    "            df_temp = rest_query(server, query, content_type)\n",
    "\n",
    "            # Add results to main dict\n",
    "            results_dict[ensembl_ID].update({\"seq\":df_temp[\"seq\"]})\n",
    "        \n",
    "        ## OVERLAP\n",
    "        # overlap/id/ query: Retrieves features (e.g. genes, transcripts, variants and more) that overlap a region defined by the given identifier.\n",
    "        query = \"overlap/id/\" + ensembl_ID + \"?\"\n",
    "        \n",
    "#         # Add results to main dict\n",
    "#         try:\n",
    "#             results_dict[ensembl_ID].update({\"homology\":df_temp[\"data\"][0][\"homologies\"]})\n",
    "#         except:\n",
    "#             sys.stderr.write(f\"No homology information found for {ensembl_ID}.\\n\")\n",
    "\n",
    "        # overlap/translation/:id query: Retrieves features related to a specific Translation as described by its stable ID (e.g. domains, variants).\n",
    "        query = \"overlap/translation/\" + ensembl_ID + \"?\"\n",
    "        \n",
    "#         # Add results to main dict\n",
    "#         try:\n",
    "#             results_dict[ensembl_ID].update({\"homology\":df_temp[\"data\"][0][\"homologies\"]})\n",
    "#         except:\n",
    "#             sys.stderr.write(f\"No homology information found for {ensembl_ID}.\\n\")\n",
    "        \n",
    "    \n",
    "        ## MAPPING\n",
    "        \n",
    "        \n",
    "        ## REGULATORY\n",
    "        # regulatory/species/:species/id/:id query: Returns a RegulatoryFeature given its stable ID"
   ]
  },
  {
   "cell_type": "code",
   "execution_count": null,
   "metadata": {},
   "outputs": [],
   "source": []
  },
  {
   "cell_type": "code",
   "execution_count": null,
   "metadata": {},
   "outputs": [],
   "source": []
  },
  {
   "cell_type": "markdown",
   "metadata": {},
   "source": [
    "___"
   ]
  },
  {
   "cell_type": "markdown",
   "metadata": {},
   "source": [
    "# Searching gene name as well as description \n",
    "Problems:\n",
    "- where in core schema is display name?\n",
    "- gene_attrib IDs differ beween species (should jsut be 0-5 according to schema, but zebra finch only 142 which is not gene name)"
   ]
  },
  {
   "cell_type": "markdown",
   "metadata": {},
   "source": [
    "taeniopygia_guttata_core_105_12"
   ]
  },
  {
   "cell_type": "code",
   "execution_count": 70,
   "metadata": {},
   "outputs": [],
   "source": [
    "db_connection = sql.connect(host='ensembldb.ensembl.org', \n",
    "                            database='taeniopygia_guttata_core_105_12', \n",
    "                            user='anonymous', \n",
    "                            password='')"
   ]
  },
  {
   "cell_type": "code",
   "execution_count": 71,
   "metadata": {},
   "outputs": [],
   "source": [
    "# query = f\"\"\"\n",
    "# SELECT gene.stable_id, gene.description, xref.description, gene.biotype\n",
    "# FROM gene\n",
    "# LEFT JOIN xref ON gene.display_xref_id = xref.xref_id\n",
    "# WHERE (gene.description LIKE '%TP53%' OR xref.description LIKE '%TP53%')\n",
    "# \"\"\""
   ]
  },
  {
   "cell_type": "code",
   "execution_count": 75,
   "metadata": {},
   "outputs": [],
   "source": [
    "query = f\"\"\"\n",
    "SELECT *\n",
    "FROM gene_attrib \n",
    "LIMIT 10\n",
    "\"\"\""
   ]
  },
  {
   "cell_type": "code",
   "execution_count": 76,
   "metadata": {},
   "outputs": [],
   "source": [
    "df_temp = pd.read_sql(query, con=db_connection)"
   ]
  },
  {
   "cell_type": "code",
   "execution_count": 77,
   "metadata": {},
   "outputs": [
    {
     "data": {
      "text/html": [
       "<div>\n",
       "<style scoped>\n",
       "    .dataframe tbody tr th:only-of-type {\n",
       "        vertical-align: middle;\n",
       "    }\n",
       "\n",
       "    .dataframe tbody tr th {\n",
       "        vertical-align: top;\n",
       "    }\n",
       "\n",
       "    .dataframe thead th {\n",
       "        text-align: right;\n",
       "    }\n",
       "</style>\n",
       "<table border=\"1\" class=\"dataframe\">\n",
       "  <thead>\n",
       "    <tr style=\"text-align: right;\">\n",
       "      <th></th>\n",
       "      <th>gene_id</th>\n",
       "      <th>attrib_type_id</th>\n",
       "      <th>value</th>\n",
       "    </tr>\n",
       "  </thead>\n",
       "  <tbody>\n",
       "    <tr>\n",
       "      <th>0</th>\n",
       "      <td>15394</td>\n",
       "      <td>142</td>\n",
       "      <td>68.96</td>\n",
       "    </tr>\n",
       "    <tr>\n",
       "      <th>1</th>\n",
       "      <td>21450</td>\n",
       "      <td>142</td>\n",
       "      <td>50.60</td>\n",
       "    </tr>\n",
       "    <tr>\n",
       "      <th>2</th>\n",
       "      <td>15940</td>\n",
       "      <td>142</td>\n",
       "      <td>58.98</td>\n",
       "    </tr>\n",
       "    <tr>\n",
       "      <th>3</th>\n",
       "      <td>13668</td>\n",
       "      <td>142</td>\n",
       "      <td>63.75</td>\n",
       "    </tr>\n",
       "    <tr>\n",
       "      <th>4</th>\n",
       "      <td>18885</td>\n",
       "      <td>142</td>\n",
       "      <td>37.07</td>\n",
       "    </tr>\n",
       "    <tr>\n",
       "      <th>5</th>\n",
       "      <td>16702</td>\n",
       "      <td>142</td>\n",
       "      <td>64.01</td>\n",
       "    </tr>\n",
       "    <tr>\n",
       "      <th>6</th>\n",
       "      <td>19336</td>\n",
       "      <td>142</td>\n",
       "      <td>36.44</td>\n",
       "    </tr>\n",
       "    <tr>\n",
       "      <th>7</th>\n",
       "      <td>19543</td>\n",
       "      <td>142</td>\n",
       "      <td>51.42</td>\n",
       "    </tr>\n",
       "    <tr>\n",
       "      <th>8</th>\n",
       "      <td>12960</td>\n",
       "      <td>142</td>\n",
       "      <td>57.07</td>\n",
       "    </tr>\n",
       "    <tr>\n",
       "      <th>9</th>\n",
       "      <td>17884</td>\n",
       "      <td>142</td>\n",
       "      <td>47.27</td>\n",
       "    </tr>\n",
       "  </tbody>\n",
       "</table>\n",
       "</div>"
      ],
      "text/plain": [
       "   gene_id  attrib_type_id  value\n",
       "0    15394             142  68.96\n",
       "1    21450             142  50.60\n",
       "2    15940             142  58.98\n",
       "3    13668             142  63.75\n",
       "4    18885             142  37.07\n",
       "5    16702             142  64.01\n",
       "6    19336             142  36.44\n",
       "7    19543             142  51.42\n",
       "8    12960             142  57.07\n",
       "9    17884             142  47.27"
      ]
     },
     "execution_count": 77,
     "metadata": {},
     "output_type": "execute_result"
    }
   ],
   "source": [
    "df_temp"
   ]
  },
  {
   "cell_type": "code",
   "execution_count": null,
   "metadata": {},
   "outputs": [],
   "source": []
  }
 ],
 "metadata": {
  "kernelspec": {
   "display_name": "Python 3",
   "language": "python",
   "name": "python3"
  },
  "language_info": {
   "codemirror_mode": {
    "name": "ipython",
    "version": 3
   },
   "file_extension": ".py",
   "mimetype": "text/x-python",
   "name": "python",
   "nbconvert_exporter": "python",
   "pygments_lexer": "ipython3",
   "version": "3.7.6"
  }
 },
 "nbformat": 4,
 "nbformat_minor": 4
}
