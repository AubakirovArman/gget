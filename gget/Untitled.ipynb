{
 "cells": [
  {
   "cell_type": "code",
   "execution_count": 1,
   "metadata": {},
   "outputs": [],
   "source": [
    "from gget import *"
   ]
  },
  {
   "cell_type": "code",
   "execution_count": 5,
   "metadata": {},
   "outputs": [
    {
     "name": "stderr",
     "output_type": "stream",
     "text": [
      "Fetching from Ensembl release: 105\n"
     ]
    },
    {
     "data": {
      "text/plain": [
       "{'anolis_carolinensis': {'coding_seq_cds': {'ftp': 'http://ftp.ensembl.org/pub/release-105/fasta/anolis_carolinensis/cds/Anolis_carolinensis.AnoCar2.0v2.cds.all.fa.gz',\n",
       "   'ensembl_release': 105,\n",
       "   'release_date': '12-Oct-2021',\n",
       "   'release_time': '11:28',\n",
       "   'bytes': '15837488'},\n",
       "  'non-coding_seq_ncRNA': {'ftp': 'http://ftp.ensembl.org/pub/release-105/fasta/anolis_carolinensis/ncrna/Anolis_carolinensis.AnoCar2.0v2.ncrna.fa.gz',\n",
       "   'ensembl_release': 105,\n",
       "   'release_date': '12-Oct-2021',\n",
       "   'release_time': '12:33',\n",
       "   'bytes': ' 2357458'}}}"
      ]
     },
     "execution_count": 5,
     "metadata": {},
     "output_type": "execute_result"
    }
   ],
   "source": [
    "ref(\"anolis_carolinensis\", which=[\"cds\", \"ncrna\"])"
   ]
  },
  {
   "cell_type": "code",
   "execution_count": null,
   "metadata": {},
   "outputs": [],
   "source": []
  }
 ],
 "metadata": {
  "kernelspec": {
   "display_name": "Python 3",
   "language": "python",
   "name": "python3"
  },
  "language_info": {
   "codemirror_mode": {
    "name": "ipython",
    "version": 3
   },
   "file_extension": ".py",
   "mimetype": "text/x-python",
   "name": "python",
   "nbconvert_exporter": "python",
   "pygments_lexer": "ipython3",
   "version": "3.7.6"
  }
 },
 "nbformat": 4,
 "nbformat_minor": 4
}
