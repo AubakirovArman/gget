{
 "cells": [
  {
   "cell_type": "code",
   "execution_count": 1,
   "metadata": {},
   "outputs": [],
   "source": [
    "from gget.gget_funcs import ref, search, info, seq, blast, muscle"
   ]
  },
  {
   "cell_type": "code",
   "execution_count": 17,
   "metadata": {},
   "outputs": [],
   "source": [
    "test_dict = {\"test\":{\"b\":20, \"a\":450,\"d\":120,\"c\":350}, \"atest\":{}} "
   ]
  },
  {
   "cell_type": "code",
   "execution_count": 18,
   "metadata": {},
   "outputs": [
    {
     "data": {
      "text/plain": [
       "{'atest': {}, 'test': {'a': 450, 'b': 20, 'c': 350, 'd': 120}}"
      ]
     },
     "execution_count": 18,
     "metadata": {},
     "output_type": "execute_result"
    }
   ],
   "source": [
    "# Sort IDs keys alphabetically\n",
    "test_dict = {key: value for key, value in sorted(test_dict.items())}\n",
    "# Sort ID info level keys alphabetically\n",
    "for dict_ens_id in test_dict.keys():\n",
    "    test_dict[dict_ens_id] = {key: value for key, value in sorted(test_dict[dict_ens_id].items())}\n",
    "    # Sort transcript/translation/exon level keys alphabetically\n",
    "    for trans_id in test_dict[dict_ens_id].keys():\n",
    "        if type(test_dict[dict_ens_id][trans_id]) == dict:\n",
    "            test_dict[dict_ens_id][trans_id] = {key: value for key, value in sorted(test_dict[dict_ens_id][trans_id].items())}\n",
    "        if type(test_dict[dict_ens_id][trans_id]) == list:\n",
    "            for index, list_item in enumerate(test_dict[dict_ens_id][trans_id]):\n",
    "                test_dict[dict_ens_id][trans_id][index] = {key: value for key, value in sorted(test_dict[dict_ens_id][trans_id][index].items())}\n",
    "\n",
    "test_dict"
   ]
  },
  {
   "cell_type": "code",
   "execution_count": null,
   "metadata": {},
   "outputs": [],
   "source": []
  }
 ],
 "metadata": {
  "interpreter": {
   "hash": "31f2aee4e71d21fbe5cf8b01ff0e069b9275f58929596ceb00d14d90e3e16cd6"
  },
  "kernelspec": {
   "display_name": "Python 3.8.2 64-bit",
   "language": "python",
   "name": "python3"
  },
  "language_info": {
   "codemirror_mode": {
    "name": "ipython",
    "version": 3
   },
   "file_extension": ".py",
   "mimetype": "text/x-python",
   "name": "python",
   "nbconvert_exporter": "python",
   "pygments_lexer": "ipython3",
   "version": "3.8.12"
  },
  "orig_nbformat": 4
 },
 "nbformat": 4,
 "nbformat_minor": 2
}
