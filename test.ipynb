{
 "cells": [
  {
   "cell_type": "markdown",
   "metadata": {},
   "source": [
    "https://m.ensembl.org/info/docs/api/core/core_schema.html#associated_group"
   ]
  },
  {
   "cell_type": "code",
   "execution_count": 180,
   "metadata": {},
   "outputs": [
    {
     "name": "stdout",
     "output_type": "stream",
     "text": [
      "The blackcellmagic extension is already loaded. To reload it, use:\n",
      "  %reload_ext blackcellmagic\n"
     ]
    }
   ],
   "source": [
    "%load_ext blackcellmagic"
   ]
  },
  {
   "cell_type": "code",
   "execution_count": 243,
   "metadata": {},
   "outputs": [],
   "source": [
    "db = \"homo_sapiens_core_105_38\"\n",
    "searchword = \"GABA\"\n",
    "limit = 20"
   ]
  },
  {
   "cell_type": "code",
   "execution_count": null,
   "metadata": {},
   "outputs": [],
   "source": [
    "import pandas as pd\n",
    "# pure-Python MySQL client library\n",
    "import pymysql\n",
    "\n",
    "database = pymysql.connect(\n",
    "host=\"ensembldb.ensembl.org\",\n",
    "user=\"anonymous\",\n",
    "password=\"\",\n",
    "database=db\n",
    ")"
   ]
  },
  {
   "cell_type": "code",
   "execution_count": 244,
   "metadata": {},
   "outputs": [],
   "source": [
    "cursor = database.cursor()\n",
    "\n",
    "# ## Select genes based on search word in \"description\" column of \"gene\" table\n",
    "# cursor.execute(f\"select * from gene where description like '%{searchword}%';\")\n",
    "# res1 = cursor.fetchall()\n",
    "\n",
    "# # Get gene table column names\n",
    "# cursor.execute(f\"show columns from gene;\")\n",
    "# header_tuples = cursor.fetchall()\n",
    "# header1 = [a_tuple[0] for a_tuple in header_tuples]\n",
    "\n",
    "# # Save search results from gene table in data frame\n",
    "# df_temp1 = pd.DataFrame(\n",
    "#     res1,\n",
    "#     columns=header1,\n",
    "# )\n",
    "\n",
    "# # \"display_xref_id\" links to \"xref_id\" in \"xref\" table\n",
    "# display_xref_ids = df_temp[\"display_xref_id\"].values\n",
    "\n",
    "# # Find search results form gene table in xref table\n",
    "# for xref_id in display_xref_ids:\n",
    "#     cursor.execute(f\"select external_db_id, description from xref where xref_id like '%{xref_id}%';\")\n",
    "#     res2 = cursor.fetchall()\n",
    "#     header2 = [\"ext database ID\", \"ext description\"]\n",
    "\n",
    "\n",
    "cursor.execute(f\"select description from gene where description like '%{searchword}%';\")\n",
    "gene_description = cursor.fetchall()\n",
    "\n",
    "## Select genes based on search word in \"description\" column of \"xref\" table\n",
    "# This table contains external web-data displayed on the Ensembl website\n",
    "cursor.execute(f\"select description from xref where description like '%{searchword}%';\")\n",
    "ext_description = cursor.fetchall()\n",
    "# header2 = [\"ext database ID\", \"ext description\"]\n",
    "\n",
    "\n",
    "# # external_db_ids = \n",
    "# ext_dbs = []\n",
    "# for ext_id in external_db_ids:\n",
    "#     ## Get database name of xref genes from \"db_name\" column of \"external_db\" table\n",
    "#     cursor.execute(f\"select db_name from external_db where external_db_id like '%{external_db_ids}%';\")\n",
    "#     ext_dbs.append\n",
    "\n",
    "## Get gene names from \"value\" column in gene_attrib table\n",
    "cursor.execute(f\"select value from gene_attrib limit {limit};\")\n",
    "gene_names = cursor.fetchall()\n",
    "\n",
    "header3 = [\"gene_name\"]"
   ]
  },
  {
   "cell_type": "code",
   "execution_count": 249,
   "metadata": {},
   "outputs": [
    {
     "data": {
      "text/plain": [
       "16"
      ]
     },
     "execution_count": 249,
     "metadata": {},
     "output_type": "execute_result"
    }
   ],
   "source": [
    "len(gene_description)"
   ]
  },
  {
   "cell_type": "code",
   "execution_count": 248,
   "metadata": {},
   "outputs": [
    {
     "data": {
      "text/plain": [
       "350"
      ]
     },
     "execution_count": 248,
     "metadata": {},
     "output_type": "execute_result"
    }
   ],
   "source": [
    "len(ext_description)"
   ]
  },
  {
   "cell_type": "code",
   "execution_count": null,
   "metadata": {},
   "outputs": [],
   "source": []
  },
  {
   "cell_type": "code",
   "execution_count": null,
   "metadata": {},
   "outputs": [],
   "source": []
  },
  {
   "cell_type": "code",
   "execution_count": 258,
   "metadata": {},
   "outputs": [],
   "source": [
    "cursor = database.cursor()\n",
    "cursor.execute(\n",
    "    f\"\"\"\n",
    "    SELECT gene.*, xref.description, gene_attrib.value \n",
    "    FROM gene \n",
    "    INNER JOIN xref ON gene.display_xref_id=xref.xref_id \n",
    "    INNER JOIN gene_attrib ON gene.gene_id=gene_attrib.gene_id \n",
    "    WHERE gene.description LIKE '%{searchword}%' OR xref.description LIKE '%{searchword}%';\n",
    "    \"\"\"\n",
    ")\n",
    "\n",
    "results = cursor.fetchall()\n",
    "\n",
    "# Get gene table column names\n",
    "cursor.execute(f\"show columns from gene;\")\n",
    "header_tuples = cursor.fetchall()\n",
    "header1 = [a_tuple[0] for a_tuple in header_tuples]\n",
    "# Define column name for xref description and gene_attrib.value\n",
    "header2 = [\"xref description\", \"gene name\"]\n",
    "\n",
    "# Save search results from gene table in data frame\n",
    "df_temp = pd.DataFrame(\n",
    "    results,\n",
    "    columns = header1 + header2,\n",
    ")"
   ]
  },
  {
   "cell_type": "code",
   "execution_count": null,
   "metadata": {},
   "outputs": [],
   "source": []
  },
  {
   "cell_type": "code",
   "execution_count": 264,
   "metadata": {},
   "outputs": [],
   "source": [
    "cursor = database.cursor()\n",
    "cursor.execute(\n",
    "    f\"\"\"\n",
    "    SELECT gene.*, gene_attrib.* \n",
    "    FROM gene \n",
    "    INNER JOIN gene_attrib ON gene.gene_id=gene_attrib.gene_id \n",
    "    WHERE gene.description LIKE '%{searchword}%';\n",
    "    \"\"\"\n",
    ")\n",
    "results = cursor.fetchall()\n",
    "\n",
    "# Get table column names\n",
    "cursor.execute(f\"show columns from gene;\")\n",
    "header_tuples = cursor.fetchall()\n",
    "header1 = [a_tuple[0] for a_tuple in header_tuples]\n",
    "\n",
    "cursor.execute(f\"show columns from gene_attrib;\")\n",
    "header_tuples = cursor.fetchall()\n",
    "header2 = [a_tuple[0] for a_tuple in header_tuples]\n",
    "\n",
    "# Save search results from gene table in data frame\n",
    "df_temp = pd.DataFrame(\n",
    "    results,\n",
    "    columns = header1 + header2,\n",
    ")"
   ]
  },
  {
   "cell_type": "code",
   "execution_count": 268,
   "metadata": {},
   "outputs": [
    {
     "data": {
      "text/plain": [
       "56"
      ]
     },
     "execution_count": 268,
     "metadata": {},
     "output_type": "execute_result"
    }
   ],
   "source": [
    "len(df_temp)"
   ]
  },
  {
   "cell_type": "markdown",
   "metadata": {},
   "source": [
    "Why is len(df_temp) != len(gene_description) here???  \n",
    "It looks like gene_attrib has multiple entries for the same gene ID with different entries for \"value\". Let's try excluding gene_attrib.  \n",
    "Note: Are \"na\" values in display_xref_id a problem?"
   ]
  },
  {
   "cell_type": "code",
   "execution_count": null,
   "metadata": {},
   "outputs": [],
   "source": []
  },
  {
   "cell_type": "code",
   "execution_count": 269,
   "metadata": {},
   "outputs": [],
   "source": [
    "cursor = database.cursor()\n",
    "cursor.execute(\n",
    "    f\"\"\"\n",
    "    SELECT gene.*, xref.description\n",
    "    FROM gene \n",
    "    INNER JOIN xref ON gene.display_xref_id=xref.xref_id \n",
    "    WHERE gene.description LIKE '%{searchword}%' OR xref.description LIKE '%{searchword}%';\n",
    "    \"\"\"\n",
    ")\n",
    "results = cursor.fetchall()\n",
    "\n",
    "# Get table column names\n",
    "cursor.execute(f\"show columns from gene;\")\n",
    "header_tuples = cursor.fetchall()\n",
    "header1 = [a_tuple[0] for a_tuple in header_tuples]\n",
    "\n",
    "header2 = [\"xref description\"]\n",
    "\n",
    "# Save search results from gene table in data frame\n",
    "df_temp = pd.DataFrame(\n",
    "    results,\n",
    "    columns = header1 + header2,\n",
    ")"
   ]
  },
  {
   "cell_type": "code",
   "execution_count": 270,
   "metadata": {},
   "outputs": [
    {
     "data": {
      "text/plain": [
       "7"
      ]
     },
     "execution_count": 270,
     "metadata": {},
     "output_type": "execute_result"
    }
   ],
   "source": [
    "len(df_temp)"
   ]
  },
  {
   "cell_type": "code",
   "execution_count": 271,
   "metadata": {},
   "outputs": [
    {
     "data": {
      "text/html": [
       "<div>\n",
       "<style scoped>\n",
       "    .dataframe tbody tr th:only-of-type {\n",
       "        vertical-align: middle;\n",
       "    }\n",
       "\n",
       "    .dataframe tbody tr th {\n",
       "        vertical-align: top;\n",
       "    }\n",
       "\n",
       "    .dataframe thead th {\n",
       "        text-align: right;\n",
       "    }\n",
       "</style>\n",
       "<table border=\"1\" class=\"dataframe\">\n",
       "  <thead>\n",
       "    <tr style=\"text-align: right;\">\n",
       "      <th></th>\n",
       "      <th>gene_id</th>\n",
       "      <th>biotype</th>\n",
       "      <th>analysis_id</th>\n",
       "      <th>seq_region_id</th>\n",
       "      <th>seq_region_start</th>\n",
       "      <th>seq_region_end</th>\n",
       "      <th>seq_region_strand</th>\n",
       "      <th>display_xref_id</th>\n",
       "      <th>source</th>\n",
       "      <th>description</th>\n",
       "      <th>is_current</th>\n",
       "      <th>canonical_transcript_id</th>\n",
       "      <th>stable_id</th>\n",
       "      <th>version</th>\n",
       "      <th>created_date</th>\n",
       "      <th>modified_date</th>\n",
       "      <th>xref description</th>\n",
       "    </tr>\n",
       "  </thead>\n",
       "  <tbody>\n",
       "    <tr>\n",
       "      <th>0</th>\n",
       "      <td>17657</td>\n",
       "      <td>lncRNA</td>\n",
       "      <td>8354</td>\n",
       "      <td>131546</td>\n",
       "      <td>10214161</td>\n",
       "      <td>10214761</td>\n",
       "      <td>-1</td>\n",
       "      <td>6355578</td>\n",
       "      <td>havana</td>\n",
       "      <td>GABARAPL1 antisense RNA 1 [Source:HGNC Symbol;...</td>\n",
       "      <td>1</td>\n",
       "      <td>53895</td>\n",
       "      <td>ENSG00000255958</td>\n",
       "      <td>1</td>\n",
       "      <td>2011-02-14 13:38:37</td>\n",
       "      <td>2011-02-14 13:38:37</td>\n",
       "      <td>GABARAPL1 antisense RNA 1</td>\n",
       "    </tr>\n",
       "    <tr>\n",
       "      <th>1</th>\n",
       "      <td>18340</td>\n",
       "      <td>protein_coding</td>\n",
       "      <td>8353</td>\n",
       "      <td>131546</td>\n",
       "      <td>10212458</td>\n",
       "      <td>10223128</td>\n",
       "      <td>1</td>\n",
       "      <td>6355576</td>\n",
       "      <td>ensembl_havana</td>\n",
       "      <td>GABA type A receptor associated protein like 1...</td>\n",
       "      <td>1</td>\n",
       "      <td>55864</td>\n",
       "      <td>ENSG00000139112</td>\n",
       "      <td>11</td>\n",
       "      <td>2008-04-29 11:17:41</td>\n",
       "      <td>2018-11-21 17:23:49</td>\n",
       "      <td>GABA type A receptor associated protein like 1</td>\n",
       "    </tr>\n",
       "    <tr>\n",
       "      <th>2</th>\n",
       "      <td>44845</td>\n",
       "      <td>protein_coding</td>\n",
       "      <td>8353</td>\n",
       "      <td>131549</td>\n",
       "      <td>75566375</td>\n",
       "      <td>75577881</td>\n",
       "      <td>1</td>\n",
       "      <td>6355579</td>\n",
       "      <td>ensembl_havana</td>\n",
       "      <td>GABA type A receptor associated protein like 2...</td>\n",
       "      <td>1</td>\n",
       "      <td>149153</td>\n",
       "      <td>ENSG00000034713</td>\n",
       "      <td>8</td>\n",
       "      <td>2008-04-29 11:17:41</td>\n",
       "      <td>2018-11-21 17:23:49</td>\n",
       "      <td>GABA type A receptor associated protein like 2</td>\n",
       "    </tr>\n",
       "    <tr>\n",
       "      <th>3</th>\n",
       "      <td>53729</td>\n",
       "      <td>TEC</td>\n",
       "      <td>8354</td>\n",
       "      <td>131558</td>\n",
       "      <td>90347587</td>\n",
       "      <td>90349437</td>\n",
       "      <td>1</td>\n",
       "      <td>4017258</td>\n",
       "      <td>havana</td>\n",
       "      <td>GABA type A receptor associated protein like 3...</td>\n",
       "      <td>1</td>\n",
       "      <td>187564</td>\n",
       "      <td>ENSG00000279980</td>\n",
       "      <td>1</td>\n",
       "      <td>2014-08-13 17:29:05</td>\n",
       "      <td>2014-08-13 17:29:05</td>\n",
       "      <td>GABA type A receptor associated protein like 3...</td>\n",
       "    </tr>\n",
       "    <tr>\n",
       "      <th>4</th>\n",
       "      <td>53730</td>\n",
       "      <td>processed_pseudogene</td>\n",
       "      <td>8354</td>\n",
       "      <td>131558</td>\n",
       "      <td>90348844</td>\n",
       "      <td>90349197</td>\n",
       "      <td>-1</td>\n",
       "      <td>6355582</td>\n",
       "      <td>havana</td>\n",
       "      <td>GABA type A receptor associated protein like 3...</td>\n",
       "      <td>1</td>\n",
       "      <td>187568</td>\n",
       "      <td>ENSG00000238244</td>\n",
       "      <td>3</td>\n",
       "      <td>2009-05-19 09:47:17</td>\n",
       "      <td>2014-06-09 10:49:07</td>\n",
       "      <td>GABA type A receptor associated protein like 3...</td>\n",
       "    </tr>\n",
       "    <tr>\n",
       "      <th>5</th>\n",
       "      <td>60597</td>\n",
       "      <td>protein_coding</td>\n",
       "      <td>8353</td>\n",
       "      <td>131537</td>\n",
       "      <td>44954585</td>\n",
       "      <td>44993341</td>\n",
       "      <td>1</td>\n",
       "      <td>6345391</td>\n",
       "      <td>ensembl_havana</td>\n",
       "      <td>CLPTM1 regulator of GABA type A receptor forwa...</td>\n",
       "      <td>1</td>\n",
       "      <td>223716</td>\n",
       "      <td>ENSG00000104853</td>\n",
       "      <td>16</td>\n",
       "      <td>2008-04-29 11:17:41</td>\n",
       "      <td>2018-11-21 17:23:49</td>\n",
       "      <td>CLPTM1 regulator of GABA type A receptor forwa...</td>\n",
       "    </tr>\n",
       "    <tr>\n",
       "      <th>6</th>\n",
       "      <td>62468</td>\n",
       "      <td>protein_coding</td>\n",
       "      <td>8353</td>\n",
       "      <td>131554</td>\n",
       "      <td>7240008</td>\n",
       "      <td>7242449</td>\n",
       "      <td>-1</td>\n",
       "      <td>6355574</td>\n",
       "      <td>ensembl_havana</td>\n",
       "      <td>GABA type A receptor-associated protein [Sourc...</td>\n",
       "      <td>1</td>\n",
       "      <td>233989</td>\n",
       "      <td>ENSG00000170296</td>\n",
       "      <td>10</td>\n",
       "      <td>2008-04-29 11:17:41</td>\n",
       "      <td>2018-11-21 17:23:49</td>\n",
       "      <td>GABA type A receptor-associated protein</td>\n",
       "    </tr>\n",
       "  </tbody>\n",
       "</table>\n",
       "</div>"
      ],
      "text/plain": [
       "   gene_id               biotype  analysis_id  seq_region_id  \\\n",
       "0    17657                lncRNA         8354         131546   \n",
       "1    18340        protein_coding         8353         131546   \n",
       "2    44845        protein_coding         8353         131549   \n",
       "3    53729                   TEC         8354         131558   \n",
       "4    53730  processed_pseudogene         8354         131558   \n",
       "5    60597        protein_coding         8353         131537   \n",
       "6    62468        protein_coding         8353         131554   \n",
       "\n",
       "   seq_region_start  seq_region_end  seq_region_strand  display_xref_id  \\\n",
       "0          10214161        10214761                 -1          6355578   \n",
       "1          10212458        10223128                  1          6355576   \n",
       "2          75566375        75577881                  1          6355579   \n",
       "3          90347587        90349437                  1          4017258   \n",
       "4          90348844        90349197                 -1          6355582   \n",
       "5          44954585        44993341                  1          6345391   \n",
       "6           7240008         7242449                 -1          6355574   \n",
       "\n",
       "           source                                        description  \\\n",
       "0          havana  GABARAPL1 antisense RNA 1 [Source:HGNC Symbol;...   \n",
       "1  ensembl_havana  GABA type A receptor associated protein like 1...   \n",
       "2  ensembl_havana  GABA type A receptor associated protein like 2...   \n",
       "3          havana  GABA type A receptor associated protein like 3...   \n",
       "4          havana  GABA type A receptor associated protein like 3...   \n",
       "5  ensembl_havana  CLPTM1 regulator of GABA type A receptor forwa...   \n",
       "6  ensembl_havana  GABA type A receptor-associated protein [Sourc...   \n",
       "\n",
       "   is_current  canonical_transcript_id        stable_id  version  \\\n",
       "0           1                    53895  ENSG00000255958        1   \n",
       "1           1                    55864  ENSG00000139112       11   \n",
       "2           1                   149153  ENSG00000034713        8   \n",
       "3           1                   187564  ENSG00000279980        1   \n",
       "4           1                   187568  ENSG00000238244        3   \n",
       "5           1                   223716  ENSG00000104853       16   \n",
       "6           1                   233989  ENSG00000170296       10   \n",
       "\n",
       "         created_date       modified_date  \\\n",
       "0 2011-02-14 13:38:37 2011-02-14 13:38:37   \n",
       "1 2008-04-29 11:17:41 2018-11-21 17:23:49   \n",
       "2 2008-04-29 11:17:41 2018-11-21 17:23:49   \n",
       "3 2014-08-13 17:29:05 2014-08-13 17:29:05   \n",
       "4 2009-05-19 09:47:17 2014-06-09 10:49:07   \n",
       "5 2008-04-29 11:17:41 2018-11-21 17:23:49   \n",
       "6 2008-04-29 11:17:41 2018-11-21 17:23:49   \n",
       "\n",
       "                                    xref description  \n",
       "0                          GABARAPL1 antisense RNA 1  \n",
       "1     GABA type A receptor associated protein like 1  \n",
       "2     GABA type A receptor associated protein like 2  \n",
       "3  GABA type A receptor associated protein like 3...  \n",
       "4  GABA type A receptor associated protein like 3...  \n",
       "5  CLPTM1 regulator of GABA type A receptor forwa...  \n",
       "6            GABA type A receptor-associated protein  "
      ]
     },
     "execution_count": 271,
     "metadata": {},
     "output_type": "execute_result"
    }
   ],
   "source": [
    "df_temp"
   ]
  },
  {
   "cell_type": "code",
   "execution_count": null,
   "metadata": {},
   "outputs": [],
   "source": []
  }
 ],
 "metadata": {
  "kernelspec": {
   "display_name": "Python 3",
   "language": "python",
   "name": "python3"
  },
  "language_info": {
   "codemirror_mode": {
    "name": "ipython",
    "version": 3
   },
   "file_extension": ".py",
   "mimetype": "text/x-python",
   "name": "python",
   "nbconvert_exporter": "python",
   "pygments_lexer": "ipython3",
   "version": "3.7.6"
  }
 },
 "nbformat": 4,
 "nbformat_minor": 4
}
