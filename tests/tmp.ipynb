{
 "cells": [
  {
   "cell_type": "code",
   "execution_count": 1,
   "metadata": {},
   "outputs": [
    {
     "name": "stderr",
     "output_type": "stream",
     "text": [
      "Sun May  8 15:58:20 2022 INFO NumExpr defaulting to 4 threads.\n"
     ]
    }
   ],
   "source": [
    "import gget"
   ]
  },
  {
   "cell_type": "code",
   "execution_count": 7,
   "metadata": {},
   "outputs": [
    {
     "name": "stderr",
     "output_type": "stream",
     "text": [
      "Sun May  8 16:00:14 2022 WARNING No reviewed UniProt results were found. Returning all unreviewed results for Ensembl ID ENSTGUT00000027003.\n",
      "Sun May  8 16:00:17 2022 INFO Returning only reviewed UniProt results for Ensembl ID ENSMUSG00000000001.\n"
     ]
    },
    {
     "data": {
      "text/plain": [
       "[['A0A674GVD2',\n",
       "  'taeniopygia_guttata',\n",
       "  'bTaeGut1_v1.p',\n",
       "  'FUNDC1',\n",
       "  'FUNDC1-202',\n",
       "  ['FUNDC1'],\n",
       "  'Uncharacterized protein',\n",
       "  'Transcript',\n",
       "  'protein_coding',\n",
       "  '1',\n",
       "  -1,\n",
       "  107513786,\n",
       "  107526965],\n",
       " ['Q9DC51',\n",
       "  'mus_musculus',\n",
       "  'GRCm39',\n",
       "  'Gnai3',\n",
       "  'Gnai3',\n",
       "  ['AI158965', 'AW537698', 'Galphai3', 'Gnai-3', 'Gnai3', 'Hg1a'],\n",
       "  'Guanine nucleotide-binding protein G(i) subunit alpha-3 (G(i) alpha-3)',\n",
       "  'Gene',\n",
       "  'protein_coding',\n",
       "  '3',\n",
       "  -1,\n",
       "  108014596,\n",
       "  108053462]]"
      ]
     },
     "execution_count": 7,
     "metadata": {},
     "output_type": "execute_result"
    }
   ],
   "source": [
    "df = gget.info([\"ENSTGUT00000027003.1\", \"ENSMUSG00000000001\"])\n",
    "df.dropna(axis=1).values.tolist()"
   ]
  },
  {
   "cell_type": "code",
   "execution_count": null,
   "metadata": {},
   "outputs": [],
   "source": []
  }
 ],
 "metadata": {
  "interpreter": {
   "hash": "dd19f4a025a239cd738138a9cfd973ebc04741b3d7e2339b3ee95d5c6fc3738f"
  },
  "kernelspec": {
   "display_name": "Python 3.8.12 ('base')",
   "language": "python",
   "name": "python3"
  },
  "language_info": {
   "codemirror_mode": {
    "name": "ipython",
    "version": 3
   },
   "file_extension": ".py",
   "mimetype": "text/x-python",
   "name": "python",
   "nbconvert_exporter": "python",
   "pygments_lexer": "ipython3",
   "version": "3.8.12"
  },
  "orig_nbformat": 4
 },
 "nbformat": 4,
 "nbformat_minor": 2
}
