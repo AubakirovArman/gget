{
 "cells": [
  {
   "cell_type": "code",
   "execution_count": 24,
   "metadata": {},
   "outputs": [],
   "source": [
    "from gget.gget_funcs import search, info, seq, blast, muscle"
   ]
  },
  {
   "cell_type": "code",
   "execution_count": 48,
   "metadata": {},
   "outputs": [
    {
     "name": "stderr",
     "output_type": "stream",
     "text": [
      "10 Apr 2022 15:28:02 Fetching results from database: drosophila_melanogaster_core_105_9\n",
      "10 Apr 2022 15:28:03 Query time: 1.97 seconds\n",
      "10 Apr 2022 15:28:03 Genes fetched: 4\n"
     ]
    },
    {
     "data": {
      "text/html": [
       "<div>\n",
       "<style scoped>\n",
       "    .dataframe tbody tr th:only-of-type {\n",
       "        vertical-align: middle;\n",
       "    }\n",
       "\n",
       "    .dataframe tbody tr th {\n",
       "        vertical-align: top;\n",
       "    }\n",
       "\n",
       "    .dataframe thead th {\n",
       "        text-align: right;\n",
       "    }\n",
       "</style>\n",
       "<table border=\"1\" class=\"dataframe\">\n",
       "  <thead>\n",
       "    <tr style=\"text-align: right;\">\n",
       "      <th></th>\n",
       "      <th>Ensembl_ID</th>\n",
       "      <th>Gene_name</th>\n",
       "      <th>Ensembl_description</th>\n",
       "      <th>Ext_ref_description</th>\n",
       "      <th>Biotype</th>\n",
       "      <th>URL</th>\n",
       "    </tr>\n",
       "  </thead>\n",
       "  <tbody>\n",
       "    <tr>\n",
       "      <th>0</th>\n",
       "      <td>FBtr0071125</td>\n",
       "      <td>sws-RA</td>\n",
       "      <td>None</td>\n",
       "      <td>None</td>\n",
       "      <td>protein_coding</td>\n",
       "      <td>https://uswest.ensembl.org/drosophila_melanoga...</td>\n",
       "    </tr>\n",
       "    <tr>\n",
       "      <th>1</th>\n",
       "      <td>FBtr0071126</td>\n",
       "      <td>sws-RB</td>\n",
       "      <td>None</td>\n",
       "      <td>None</td>\n",
       "      <td>protein_coding</td>\n",
       "      <td>https://uswest.ensembl.org/drosophila_melanoga...</td>\n",
       "    </tr>\n",
       "    <tr>\n",
       "      <th>2</th>\n",
       "      <td>FBtr0112512</td>\n",
       "      <td>Sws1-RA</td>\n",
       "      <td>None</td>\n",
       "      <td>None</td>\n",
       "      <td>protein_coding</td>\n",
       "      <td>https://uswest.ensembl.org/drosophila_melanoga...</td>\n",
       "    </tr>\n",
       "    <tr>\n",
       "      <th>3</th>\n",
       "      <td>FBtr0301675</td>\n",
       "      <td>sws-RC</td>\n",
       "      <td>None</td>\n",
       "      <td>None</td>\n",
       "      <td>protein_coding</td>\n",
       "      <td>https://uswest.ensembl.org/drosophila_melanoga...</td>\n",
       "    </tr>\n",
       "  </tbody>\n",
       "</table>\n",
       "</div>"
      ],
      "text/plain": [
       "    Ensembl_ID Gene_name Ensembl_description Ext_ref_description  \\\n",
       "0  FBtr0071125    sws-RA                None                None   \n",
       "1  FBtr0071126    sws-RB                None                None   \n",
       "2  FBtr0112512   Sws1-RA                None                None   \n",
       "3  FBtr0301675    sws-RC                None                None   \n",
       "\n",
       "          Biotype                                                URL  \n",
       "0  protein_coding  https://uswest.ensembl.org/drosophila_melanoga...  \n",
       "1  protein_coding  https://uswest.ensembl.org/drosophila_melanoga...  \n",
       "2  protein_coding  https://uswest.ensembl.org/drosophila_melanoga...  \n",
       "3  protein_coding  https://uswest.ensembl.org/drosophila_melanoga...  "
      ]
     },
     "execution_count": 48,
     "metadata": {},
     "output_type": "execute_result"
    }
   ],
   "source": [
    "search(\"sws\", \"droso\", seqtype=\"transcript\")"
   ]
  },
  {
   "cell_type": "code",
   "execution_count": 52,
   "metadata": {},
   "outputs": [
    {
     "ename": "TypeError",
     "evalue": "seq() got an unexpected keyword argument 'seqtype'",
     "output_type": "error",
     "traceback": [
      "\u001b[0;31m---------------------------------------------------------------------------\u001b[0m",
      "\u001b[0;31mTypeError\u001b[0m                                 Traceback (most recent call last)",
      "\u001b[0;32m<ipython-input-52-11b20b573d99>\u001b[0m in \u001b[0;36m<module>\u001b[0;34m\u001b[0m\n\u001b[0;32m----> 1\u001b[0;31m \u001b[0mseq\u001b[0m\u001b[0;34m(\u001b[0m\u001b[0;34m\"FBtr0071125\"\u001b[0m\u001b[0;34m,\u001b[0m \u001b[0mseqtype\u001b[0m\u001b[0;34m=\u001b[0m\u001b[0;34m\"transcript\"\u001b[0m\u001b[0;34m)\u001b[0m\u001b[0;34m\u001b[0m\u001b[0;34m\u001b[0m\u001b[0m\n\u001b[0m",
      "\u001b[0;31mTypeError\u001b[0m: seq() got an unexpected keyword argument 'seqtype'"
     ]
    }
   ],
   "source": [
    "seq(\"FBtr0071125\", seqtype=\"transcript\")"
   ]
  },
  {
   "cell_type": "code",
   "execution_count": 85,
   "metadata": {},
   "outputs": [],
   "source": [
    "import requests\n",
    "from bs4 import BeautifulSoup\n",
    "UNIPROT_REST_API = \"https://www.uniprot.org/uniprot/\""
   ]
  },
  {
   "cell_type": "code",
   "execution_count": 75,
   "metadata": {},
   "outputs": [
    {
     "data": {
      "text/plain": [
       "<Response [200]>"
      ]
     },
     "execution_count": 75,
     "metadata": {},
     "output_type": "execute_result"
    }
   ],
   "source": [
    "server = UNIPROT_REST_API\n",
    "return_format = \".fasta\"\n",
    "ID = \"P12345\"\n",
    "# Submit query\n",
    "r = requests.get(server + ID + return_format)\n",
    "\n",
    "if not r.ok:\n",
    "    if r.status_code != 200:\n",
    "        raise RuntimeError(f\"UniProt REST API returned the following status code: {r.status_code}. \"\n",
    "                           \"More information about UniProt status codes: https://www.uniprot.org/help/api_retrieve_entries\")"
   ]
  },
  {
   "cell_type": "code",
   "execution_count": 99,
   "metadata": {},
   "outputs": [],
   "source": [
    "soup = BeautifulSoup(r.text, \"html.parser\")"
   ]
  },
  {
   "cell_type": "code",
   "execution_count": 102,
   "metadata": {},
   "outputs": [
    {
     "data": {
      "text/plain": [
       "&gt;sp|P12345|AATM_RABIT Aspartate aminotransferase, mitochondrial OS=Oryctolagus cuniculus OX=9986 GN=GOT2 PE=1 SV=2\n",
       "MALLHSARVLSGVASAFHPGLAAAASARASSWWAHVEMGPPDPILGVTEAYKRDTNSKKM\n",
       "NLGVGAYRDDNGKPYVLPSVRKAEAQIAAKGLDKEYLPIGGLAEFCRASAELALGENSEV\n",
       "VKSGRFVTVQTISGTGALRIGASFLQRFFKFSRDVFLPKPSWGNHTPIFRDAGMQLQSYR\n",
       "YYDPKTCGFDFTGALEDISKIPEQSVLLLHACAHNPTGVDPRPEQWKEIATVVKKRNLFA\n",
       "FFDMAYQGFASGDGDKDAWAVRHFIEQGINVCLCQSYAKNMGLYGERVGAFTVICKDADE\n",
       "AKRVESQLKILIRPMYSNPPIHGARIASTILTSPDLRKQWLQEVKGMADRIIGMRTQLVS\n",
       "NLKKEGSTHSWQHITDQIGMFCFTGLKPEQVERLTKEFSIYMTKDGRISVAGVTSGNVGY\n",
       "LAHAIHQVTK"
      ]
     },
     "execution_count": 102,
     "metadata": {},
     "output_type": "execute_result"
    }
   ],
   "source": [
    "soup"
   ]
  },
  {
   "cell_type": "code",
   "execution_count": 76,
   "metadata": {},
   "outputs": [
    {
     "data": {
      "text/plain": [
       "'>sp|P12345|AATM_RABIT Aspartate aminotransferase, mitochondrial OS=Oryctolagus cuniculus OX=9986 GN=GOT2 PE=1 SV=2\\nMALLHSARVLSGVASAFHPGLAAAASARASSWWAHVEMGPPDPILGVTEAYKRDTNSKKM\\nNLGVGAYRDDNGKPYVLPSVRKAEAQIAAKGLDKEYLPIGGLAEFCRASAELALGENSEV\\nVKSGRFVTVQTISGTGALRIGASFLQRFFKFSRDVFLPKPSWGNHTPIFRDAGMQLQSYR\\nYYDPKTCGFDFTGALEDISKIPEQSVLLLHACAHNPTGVDPRPEQWKEIATVVKKRNLFA\\nFFDMAYQGFASGDGDKDAWAVRHFIEQGINVCLCQSYAKNMGLYGERVGAFTVICKDADE\\nAKRVESQLKILIRPMYSNPPIHGARIASTILTSPDLRKQWLQEVKGMADRIIGMRTQLVS\\nNLKKEGSTHSWQHITDQIGMFCFTGLKPEQVERLTKEFSIYMTKDGRISVAGVTSGNVGY\\nLAHAIHQVTK\\n'"
      ]
     },
     "execution_count": 76,
     "metadata": {},
     "output_type": "execute_result"
    }
   ],
   "source": [
    "r.text"
   ]
  },
  {
   "cell_type": "code",
   "execution_count": null,
   "metadata": {},
   "outputs": [],
   "source": [
    "# Define Ensembl REST API server\n",
    "        server = ENSEMBL_REST_API\n",
    "        # Define type of returned content from REST\n",
    "        content_type = \"application/json\"\n",
    "\n",
    "        ## Clean up Ensembl IDs\n",
    "        # If single Ensembl ID passed as string, convert to list\n",
    "        if type(ens_ids) == str:\n",
    "            ens_ids = [ens_ids]\n",
    "        # Remove Ensembl ID version if passed\n",
    "        ens_ids_clean = []\n",
    "        for ensembl_ID in ens_ids:\n",
    "            ens_ids_clean.append(ensembl_ID.split(\".\")[0])\n",
    "\n",
    "        # Initiate dictionary to save results for all IDs in\n",
    "        master_dict = {}\n",
    "\n",
    "        # Query REST APIs from https://rest.ensembl.org/\n",
    "        for ensembl_ID in ens_ids_clean:\n",
    "            # Create dict to save query results\n",
    "            results_dict = {ensembl_ID:{}}\n",
    "\n",
    "            ## SEQUENCE\n",
    "            # sequence/id/ query: Request sequence by stable identifier\n",
    "            # Define the REST query\n",
    "            query = \"sequence/id/\" + ensembl_ID + \"?\"\n",
    "            # Submit query\n",
    "            df_temp = rest_query(server, query, content_type)\n"
   ]
  }
 ],
 "metadata": {
  "kernelspec": {
   "display_name": "Python 3",
   "language": "python",
   "name": "python3"
  },
  "language_info": {
   "codemirror_mode": {
    "name": "ipython",
    "version": 3
   },
   "file_extension": ".py",
   "mimetype": "text/x-python",
   "name": "python",
   "nbconvert_exporter": "python",
   "pygments_lexer": "ipython3",
   "version": "3.7.6"
  }
 },
 "nbformat": 4,
 "nbformat_minor": 4
}
