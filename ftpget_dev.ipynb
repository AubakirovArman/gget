{
 "cells": [
  {
   "cell_type": "markdown",
   "metadata": {},
   "source": [
    "# Notes:\n",
    "#### GTF:  \n",
    "The files are consistently named following this pattern: species.assembly.version.gtf.gz  \n",
    "http://ftp.ensembl.org/pub/release-105/gtf/taeniopygia_guttata/#:~:text=Taeniopygia_guttata.bTaeGut1_v1.p.105.gtf.gz  \n",
    "    \n",
    "#### FASTAs:  \n",
    "cDNA:  \n",
    "The files are consistently named following this pattern: species.assembly.sequence_type.status.fa.gz   \n",
    "http://ftp.ensembl.org/pub/release-105/fasta/taeniopygia_guttata/cdna/Taeniopygia_guttata.bTaeGut1_v1.p.cdna.all.fa.gz  \n",
    "DNA:  \n",
    "The files are consistently named following this pattern: species.assembly.sequence_type.id_type.id.fa.gz  \n",
    "http://ftp.ensembl.org/pub/release-105/fasta/taeniopygia_guttata/dna/Taeniopygia_guttata.bTaeGut1_v1.p.dna.toplevel.fa.gz"
   ]
  },
  {
   "cell_type": "markdown",
   "metadata": {},
   "source": [
    "1. Find latest release (also include option to define)\n",
    "2. Fetch GTF and FASTA (define DNA versus cDNA)"
   ]
  },
  {
   "cell_type": "code",
   "execution_count": 252,
   "metadata": {},
   "outputs": [],
   "source": [
    "from bs4 import BeautifulSoup\n",
    "import requests\n",
    "import re\n",
    "import numpy as np"
   ]
  },
  {
   "cell_type": "code",
   "execution_count": 377,
   "metadata": {},
   "outputs": [],
   "source": [
    "species = \"homo_sapiens\""
   ]
  },
  {
   "cell_type": "markdown",
   "metadata": {},
   "source": [
    "___"
   ]
  },
  {
   "cell_type": "markdown",
   "metadata": {},
   "source": [
    "# Find latest Ensembl release:"
   ]
  },
  {
   "cell_type": "code",
   "execution_count": 378,
   "metadata": {},
   "outputs": [],
   "source": [
    "url = \"http://ftp.ensembl.org/pub/\"\n",
    "\n",
    "html = requests.get(url)\n",
    "\n",
    "soup = BeautifulSoup(html.text, \"html.parser\")"
   ]
  },
  {
   "cell_type": "code",
   "execution_count": 379,
   "metadata": {},
   "outputs": [],
   "source": [
    "# Find all releases\n",
    "releases = soup.body.findAll(text=re.compile('release-'))"
   ]
  },
  {
   "cell_type": "code",
   "execution_count": 380,
   "metadata": {},
   "outputs": [
    {
     "data": {
      "text/plain": [
       "105"
      ]
     },
     "execution_count": 380,
     "metadata": {},
     "output_type": "execute_result"
    }
   ],
   "source": [
    "# Get release numbers\n",
    "rels = []\n",
    "for rel in releases:\n",
    "    rels.append(rel.split(\"/\")[0].split(\"-\")[-1])\n",
    "    \n",
    "# Find highest release number (= latest release)\n",
    "ENS_rel = np.array(rels).astype(int).max()\n",
    "ENS_rel"
   ]
  },
  {
   "cell_type": "markdown",
   "metadata": {},
   "source": [
    "Alternative way to fetch latest release available from REST API server (might not be the same as pub release server?):  \n",
    "Code from https://rest.ensembl.org/documentation/info/data"
   ]
  },
  {
   "cell_type": "code",
   "execution_count": 381,
   "metadata": {},
   "outputs": [],
   "source": [
    "# import requests, sys\n",
    " \n",
    "# server = \"https://rest.ensembl.org\"\n",
    "# ext = \"/info/data/?\"\n",
    " \n",
    "# r = requests.get(server+ext, headers={ \"Content-Type\" : \"application/json\"})\n",
    " \n",
    "# if not r.ok:\n",
    "#   r.raise_for_status()\n",
    "#   sys.exit()\n",
    " \n",
    "# decoded = r.json()\n",
    "# print(repr(decoded))"
   ]
  },
  {
   "cell_type": "markdown",
   "metadata": {},
   "source": [
    "___"
   ]
  },
  {
   "cell_type": "markdown",
   "metadata": {},
   "source": [
    "# Get GTF + its release date from this release from Ensembl:"
   ]
  },
  {
   "cell_type": "code",
   "execution_count": 441,
   "metadata": {},
   "outputs": [],
   "source": [
    "url = f\"http://ftp.ensembl.org/pub/release-{ENS_rel}/gtf/{species}/\"\n",
    "html = requests.get(url)\n",
    "soup = BeautifulSoup(html.text, \"html.parser\")"
   ]
  },
  {
   "cell_type": "code",
   "execution_count": 442,
   "metadata": {},
   "outputs": [],
   "source": [
    "# soup"
   ]
  },
  {
   "cell_type": "code",
   "execution_count": 443,
   "metadata": {},
   "outputs": [],
   "source": [
    "# soup.body.findAll(\"h1\")"
   ]
  },
  {
   "cell_type": "code",
   "execution_count": 444,
   "metadata": {},
   "outputs": [],
   "source": [
    "# soup.body.findAll(\"a\")"
   ]
  },
  {
   "cell_type": "code",
   "execution_count": 445,
   "metadata": {},
   "outputs": [],
   "source": [
    "nones = []\n",
    "a_elements = []\n",
    "pre = soup.find('pre')\n",
    "for element in pre.descendants:\n",
    "    if element.name == \"a\":\n",
    "        a_elements.append(element)\n",
    "    elif element.name != \"a\":\n",
    "        nones.append(element)"
   ]
  },
  {
   "cell_type": "code",
   "execution_count": 446,
   "metadata": {},
   "outputs": [],
   "source": [
    "for i, string in enumerate(a_elements):\n",
    "    if f\"{ENS_rel}.gtf.gz\" in string.text:\n",
    "        gtf_str = string"
   ]
  },
  {
   "cell_type": "code",
   "execution_count": 447,
   "metadata": {},
   "outputs": [
    {
     "data": {
      "text/plain": [
       "'Homo_sapiens.GRCh38.105.gtf.gz'"
      ]
     },
     "execution_count": 447,
     "metadata": {},
     "output_type": "execute_result"
    }
   ],
   "source": [
    "gtf_str[\"href\"]"
   ]
  },
  {
   "cell_type": "code",
   "execution_count": 448,
   "metadata": {},
   "outputs": [
    {
     "data": {
      "text/plain": [
       "'http://ftp.ensembl.org/pub/release-105/gtf/homo_sapiens/Homo_sapiens.GRCh38.105.gtf.gz'"
      ]
     },
     "execution_count": 448,
     "metadata": {},
     "output_type": "execute_result"
    }
   ],
   "source": [
    "gtf_url = f\"http://ftp.ensembl.org/pub/release-{ENS_rel}/gtf/{species}/{gtf_str['href']}\"\n",
    "gtf_url"
   ]
  },
  {
   "cell_type": "markdown",
   "metadata": {},
   "source": [
    "Get release date:"
   ]
  },
  {
   "cell_type": "code",
   "execution_count": 449,
   "metadata": {},
   "outputs": [],
   "source": [
    "for i, string in enumerate(nones):\n",
    "    if f\"{ENS_rel}.gtf.gz\" in string.text:\n",
    "        gtf_date = nones[i+1]"
   ]
  },
  {
   "cell_type": "code",
   "execution_count": 450,
   "metadata": {},
   "outputs": [
    {
     "data": {
      "text/plain": [
       "'                     18-Jun-2021 13:28            50829040\\r\\n'"
      ]
     },
     "execution_count": 450,
     "metadata": {},
     "output_type": "execute_result"
    }
   ],
   "source": [
    "gtf_date"
   ]
  },
  {
   "cell_type": "markdown",
   "metadata": {},
   "source": [
    "___"
   ]
  },
  {
   "cell_type": "markdown",
   "metadata": {},
   "source": [
    "# Get cDNA FASTA"
   ]
  },
  {
   "cell_type": "markdown",
   "metadata": {},
   "source": [
    "http://ftp.ensembl.org/pub/release-105/fasta/taeniopygia_guttata/cdna/Taeniopygia_guttata.bTaeGut1_v1.p.cdna.all.fa.gz"
   ]
  },
  {
   "cell_type": "code",
   "execution_count": 451,
   "metadata": {},
   "outputs": [],
   "source": [
    "url = f\"http://ftp.ensembl.org/pub/release-{ENS_rel}/fasta/{species}/cdna\"\n",
    "html = requests.get(url)\n",
    "soup = BeautifulSoup(html.text, \"html.parser\")"
   ]
  },
  {
   "cell_type": "code",
   "execution_count": 452,
   "metadata": {},
   "outputs": [],
   "source": [
    "# soup"
   ]
  },
  {
   "cell_type": "code",
   "execution_count": 453,
   "metadata": {},
   "outputs": [],
   "source": [
    "nones = []\n",
    "a_elements = []\n",
    "pre = soup.find('pre')\n",
    "for element in pre.descendants:\n",
    "    if element.name == \"a\":\n",
    "        a_elements.append(element)\n",
    "    elif element.name != \"a\":\n",
    "        nones.append(element)"
   ]
  },
  {
   "cell_type": "code",
   "execution_count": 454,
   "metadata": {},
   "outputs": [],
   "source": [
    "for i, string in enumerate(a_elements):\n",
    "    if \"cdna.all.fa\" in string.text:\n",
    "        cdna_str = string"
   ]
  },
  {
   "cell_type": "code",
   "execution_count": 455,
   "metadata": {},
   "outputs": [
    {
     "data": {
      "text/plain": [
       "'Homo_sapiens.GRCh38.cdna.all.fa.gz'"
      ]
     },
     "execution_count": 455,
     "metadata": {},
     "output_type": "execute_result"
    }
   ],
   "source": [
    "cdna_str[\"href\"]"
   ]
  },
  {
   "cell_type": "code",
   "execution_count": 456,
   "metadata": {},
   "outputs": [
    {
     "data": {
      "text/plain": [
       "'http://ftp.ensembl.org/pub/release-105/fasta/homo_sapiens/cdna/Homo_sapiens.GRCh38.cdna.all.fa.gz'"
      ]
     },
     "execution_count": 456,
     "metadata": {},
     "output_type": "execute_result"
    }
   ],
   "source": [
    "cdna_url = f\"http://ftp.ensembl.org/pub/release-{ENS_rel}/fasta/{species}/cdna/{cdna_str['href']}\"\n",
    "cdna_url"
   ]
  },
  {
   "cell_type": "markdown",
   "metadata": {},
   "source": [
    "Get release date:"
   ]
  },
  {
   "cell_type": "code",
   "execution_count": 457,
   "metadata": {},
   "outputs": [],
   "source": [
    "for i, string in enumerate(nones):\n",
    "    if \"cdna.all.fa\" in string.text:\n",
    "        cdna_date = nones[i+1]"
   ]
  },
  {
   "cell_type": "code",
   "execution_count": 458,
   "metadata": {},
   "outputs": [
    {
     "data": {
      "text/plain": [
       "'                 18-Jun-2021 12:56            76085001\\r\\n'"
      ]
     },
     "execution_count": 458,
     "metadata": {},
     "output_type": "execute_result"
    }
   ],
   "source": [
    "cdna_date"
   ]
  },
  {
   "cell_type": "markdown",
   "metadata": {},
   "source": [
    "___"
   ]
  },
  {
   "cell_type": "markdown",
   "metadata": {},
   "source": [
    "# Get DNA FASTA link"
   ]
  },
  {
   "cell_type": "code",
   "execution_count": 459,
   "metadata": {},
   "outputs": [],
   "source": [
    "url = f\"http://ftp.ensembl.org/pub/release-{ENS_rel}/fasta/{species}/dna\"\n",
    "html = requests.get(url)\n",
    "soup = BeautifulSoup(html.text, \"html.parser\")"
   ]
  },
  {
   "cell_type": "code",
   "execution_count": 460,
   "metadata": {},
   "outputs": [],
   "source": [
    "nones = []\n",
    "a_elements = []\n",
    "pre = soup.find('pre')\n",
    "for element in pre.descendants:\n",
    "    if element.name == \"a\":\n",
    "        a_elements.append(element)\n",
    "    elif element.name != \"a\":\n",
    "        nones.append(element)"
   ]
  },
  {
   "cell_type": "code",
   "execution_count": 463,
   "metadata": {},
   "outputs": [],
   "source": [
    "for string in a_elements:\n",
    "    if \"dna.toplevel\" in string.text:\n",
    "        dna_str = string"
   ]
  },
  {
   "cell_type": "code",
   "execution_count": 465,
   "metadata": {},
   "outputs": [
    {
     "data": {
      "text/plain": [
       "'Homo_sapiens.GRCh38.dna.toplevel.fa.gz'"
      ]
     },
     "execution_count": 465,
     "metadata": {},
     "output_type": "execute_result"
    }
   ],
   "source": [
    "dna_str[\"href\"]"
   ]
  },
  {
   "cell_type": "code",
   "execution_count": 466,
   "metadata": {},
   "outputs": [
    {
     "data": {
      "text/plain": [
       "'http://ftp.ensembl.org/pub/release-105/fasta/homo_sapiens/dna/Homo_sapiens.GRCh38.dna.toplevel.fa.gz'"
      ]
     },
     "execution_count": 466,
     "metadata": {},
     "output_type": "execute_result"
    }
   ],
   "source": [
    "dna_url = f\"http://ftp.ensembl.org/pub/release-{ENS_rel}/fasta/{species}/dna/{dna_str['href']}\"\n",
    "dna_url"
   ]
  },
  {
   "cell_type": "markdown",
   "metadata": {},
   "source": [
    "Find release date and time:"
   ]
  },
  {
   "cell_type": "code",
   "execution_count": 467,
   "metadata": {},
   "outputs": [],
   "source": [
    "for i, string in enumerate(nones):\n",
    "    if \"dna.toplevel\" in string.text:\n",
    "        dna_date = nones[i+1]"
   ]
  },
  {
   "cell_type": "code",
   "execution_count": 468,
   "metadata": {},
   "outputs": [
    {
     "data": {
      "text/plain": [
       "'             18-Jun-2021 13:13          1107654500\\r\\n'"
      ]
     },
     "execution_count": 468,
     "metadata": {},
     "output_type": "execute_result"
    }
   ],
   "source": [
    "dna_date"
   ]
  },
  {
   "cell_type": "markdown",
   "metadata": {},
   "source": [
    "___"
   ]
  }
 ],
 "metadata": {
  "kernelspec": {
   "display_name": "Python 3",
   "language": "python",
   "name": "python3"
  },
  "language_info": {
   "codemirror_mode": {
    "name": "ipython",
    "version": 3
   },
   "file_extension": ".py",
   "mimetype": "text/x-python",
   "name": "python",
   "nbconvert_exporter": "python",
   "pygments_lexer": "ipython3",
   "version": "3.7.6"
  }
 },
 "nbformat": 4,
 "nbformat_minor": 4
}
